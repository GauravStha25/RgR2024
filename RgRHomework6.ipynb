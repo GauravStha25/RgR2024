{
  "nbformat": 4,
  "nbformat_minor": 0,
  "metadata": {
    "colab": {
      "provenance": [],
      "authorship_tag": "ABX9TyMGkw30YRFrppetdXDxb6Pn",
      "include_colab_link": true
    },
    "kernelspec": {
      "name": "python3",
      "display_name": "Python 3"
    },
    "language_info": {
      "name": "python"
    }
  },
  "cells": [
    {
      "cell_type": "markdown",
      "metadata": {
        "id": "view-in-github",
        "colab_type": "text"
      },
      "source": [
        "<a href=\"https://colab.research.google.com/github/GauravStha25/RgR2024/blob/main/RgRHomework6.ipynb\" target=\"_parent\"><img src=\"https://colab.research.google.com/assets/colab-badge.svg\" alt=\"Open In Colab\"/></a>"
      ]
    },
    {
      "cell_type": "code",
      "execution_count": 3,
      "metadata": {
        "colab": {
          "base_uri": "https://localhost:8080/"
        },
        "id": "5d-ahhFLHLaZ",
        "outputId": "9078f8e1-a7eb-4744-b158-c9f1f46c616b"
      },
      "outputs": [
        {
          "output_type": "stream",
          "name": "stdout",
          "text": [
            "October 28th 2024\n"
          ]
        }
      ],
      "source": [
        "#Printing Date\n",
        "print(\"October 28th 2024\")"
      ]
    },
    {
      "cell_type": "code",
      "source": [
        "#A Simple Math problem\n",
        "print(9+10)"
      ],
      "metadata": {
        "colab": {
          "base_uri": "https://localhost:8080/"
        },
        "id": "VCDUIDCRHT07",
        "outputId": "7142e343-9f87-42ac-830d-a7afb35c7f8b"
      },
      "execution_count": 4,
      "outputs": [
        {
          "output_type": "stream",
          "name": "stdout",
          "text": [
            "19\n"
          ]
        }
      ]
    },
    {
      "cell_type": "code",
      "source": [
        "reflection = \"\"\"Online repositories such as GitHub are powerful tools for enhancing rigor and reproducibility in science.\n",
        "The version control feature allows researchers to easily track changes made to the existing code, enabling them to\n",
        "return to previous versions to see the exact code used for each analysis. However, the most powerful feature\n",
        "is the open access, inviting collaboration with others conducting similar research. I have benefited\n",
        "from using another researcher's code on GitHub. In my previous lab, I analyzed axon arbor distance in\n",
        "a mutant line lacking mechanoreceptive hair cells. This analysis was conducted using code from a\n",
        "researcher who analyzed mutants lacking a chemoattractant secreted by hair cells.\n",
        "This allowed me to predict whether multiple chemoattractants might be involved, based on the similarity\n",
        "of the phenotypes. If I had generated my own method for analyzing axonal arbor distance, I wouldn’t have\n",
        "been able to make similar inferences. These online repositories also ensure transparency by inspiring\n",
        "researchers to document and explain their code thoroughly.\n",
        "They allow young researchers to benefit from the work of more experienced researchers, and even if the\n",
        "impact isn’t direct, the inspiration can extend across disciplines. By sharing code, GitHub strengthens computational science research.\n",
        "\"\"\"\n",
        "print(reflection)\n",
        "\n"
      ],
      "metadata": {
        "colab": {
          "base_uri": "https://localhost:8080/"
        },
        "id": "igghW0bRH5QG",
        "outputId": "2a92729a-91a0-401d-b194-b9f5c665b639"
      },
      "execution_count": 5,
      "outputs": [
        {
          "output_type": "stream",
          "name": "stdout",
          "text": [
            "Online repositories such as GitHub are powerful tools for enhancing rigor and reproducibility in science.\n",
            "The version control feature allows researchers to easily track changes made to the existing code, enabling them to\n",
            "return to previous versions to see the exact code used for each analysis. However, the most powerful feature\n",
            "is the open access, inviting collaboration with others conducting similar research. I have benefited\n",
            "from using another researcher's code on GitHub. In my previous lab, I analyzed axon arbor distance in\n",
            "a mutant line lacking mechanoreceptive hair cells. This analysis was conducted using code from a \n",
            "researcher who analyzed mutants lacking a chemoattractant secreted by hair cells.\n",
            "This allowed me to predict whether multiple chemoattractants might be involved, based on the similarity\n",
            "of the phenotypes. If I had generated my own method for analyzing axonal arbor distance, I wouldn’t have\n",
            "been able to make similar inferences. These online repositories also ensure transparency by inspiring\n",
            "researchers to document and explain their code thoroughly.\n",
            "They allow young researchers to benefit from the work of more experienced researchers, and even if the\n",
            "impact isn’t direct, the inspiration can extend across disciplines. By sharing code, GitHub strengthens computational science research.\n",
            "\n"
          ]
        }
      ]
    },
    {
      "cell_type": "code",
      "source": [],
      "metadata": {
        "id": "eBiBLVb0NGhb"
      },
      "execution_count": null,
      "outputs": []
    }
  ]
}